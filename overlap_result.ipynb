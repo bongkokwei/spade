{
 "cells": [
  {
   "cell_type": "markdown",
   "metadata": {},
   "source": [
    "# Display integral results in a notebook"
   ]
  },
  {
   "cell_type": "markdown",
   "metadata": {},
   "source": [
    "### 1. Define symbolic variables"
   ]
  },
  {
   "cell_type": "code",
   "execution_count": 1,
   "metadata": {},
   "outputs": [],
   "source": [
    "from overlap_integral import *\n",
    "from IPython.display import display, Math, HTML\n",
    "\n",
    "# Define symbolic variables\n",
    "x, y = var(\"x y\")\n",
    "x0, y0 = var(\"x0 y0\")\n",
    "sigma_x, sigma_y = var(\"sigma_x, sigma_y\")"
   ]
  },
  {
   "cell_type": "markdown",
   "metadata": {},
   "source": [
    "### 2. Calculate the PSF function"
   ]
  },
  {
   "cell_type": "code",
   "execution_count": 2,
   "metadata": {},
   "outputs": [
    {
     "name": "stdout",
     "output_type": "stream",
     "text": [
      "PSF function:\n"
     ]
    },
    {
     "data": {
      "text/latex": [
       "$\\displaystyle \\Huge \\frac{\\sqrt{2} e^{\\left(-\\frac{x^{2}}{4 \\, \\sigma_{x}^{2}} + \\frac{x x_{0}}{4 \\, \\sigma_{x}^{2}} - \\frac{x_{0}^{2}}{16 \\, \\sigma_{x}^{2}} - \\frac{y^{2}}{4 \\, \\sigma_{y}^{2}} + \\frac{y y_{0}}{4 \\, \\sigma_{y}^{2}} - \\frac{y_{0}^{2}}{16 \\, \\sigma_{y}^{2}}\\right)}}{2 \\, \\sqrt{\\pi \\sigma_{x} \\sigma_{y}}}$"
      ],
      "text/plain": [
       "<IPython.core.display.Math object>"
      ]
     },
     "metadata": {},
     "output_type": "display_data"
    }
   ],
   "source": [
    "psf = gaussian_psf_2d(x, y, x0 / 2, y0 / 2, sigma_x, sigma_y)\n",
    "print(\"PSF function:\")\n",
    "display(Math(r\"\\Huge \" + latex(psf.simplify_full())))"
   ]
  },
  {
   "cell_type": "markdown",
   "metadata": {},
   "source": [
    "### 2. Calculate the overlap integral"
   ]
  },
  {
   "cell_type": "code",
   "execution_count": 3,
   "metadata": {},
   "outputs": [
    {
     "name": "stdout",
     "output_type": "stream",
     "text": [
      "overlap function:\n"
     ]
    },
    {
     "data": {
      "text/latex": [
       "$\\displaystyle \\Large e^{\\left(-\\frac{x_{0}^{2}}{16 \\, \\sigma_{x}^{2}} - \\frac{y_{0}^{2}}{16 \\, \\sigma_{y}^{2}}\\right)}$"
      ],
      "text/plain": [
       "<IPython.core.display.Math object>"
      ]
     },
     "metadata": {},
     "output_type": "display_data"
    }
   ],
   "source": [
    "prob = overlap_analytical(x, y, x0 / 2, y0 / 2, sigma_x, sigma_y, mode=\"hg\", qx=0, qy=0)\n",
    "print(\"overlap function:\")\n",
    "display(Math(r\"\\Large \" + latex(prob.simplify_full())))"
   ]
  },
  {
   "cell_type": "code",
   "execution_count": 4,
   "metadata": {},
   "outputs": [
    {
     "name": "stdout",
     "output_type": "stream",
     "text": [
      "overlap function:\n"
     ]
    },
    {
     "data": {
      "text/latex": [
       "$\\displaystyle \\Large \\frac{x_{0}^{4} y_{0}^{4} e^{\\left(-\\frac{x_{0}^{2}}{16 \\, \\sigma_{x}^{2}} - \\frac{y_{0}^{2}}{16 \\, \\sigma_{y}^{2}}\\right)}}{262144 \\, \\sigma_{x}^{4} \\sigma_{y}^{4}}$"
      ],
      "text/plain": [
       "<IPython.core.display.Math object>"
      ]
     },
     "metadata": {},
     "output_type": "display_data"
    }
   ],
   "source": [
    "prob = overlap_analytical(x, y, x0 / 2, y0 / 2, sigma_x, sigma_y, mode=\"hg\", qx=2, qy=2)\n",
    "print(\"overlap function:\")\n",
    "display(Math(r\"\\Large \" + latex(prob.simplify_full())))"
   ]
  },
  {
   "cell_type": "markdown",
   "metadata": {},
   "source": [
    "#### 2a. Calculate overlap integral of gaussian PSF and LP modes"
   ]
  },
  {
   "cell_type": "code",
   "execution_count": null,
   "metadata": {},
   "outputs": [
    {
     "name": "stdout",
     "output_type": "stream",
     "text": [
      "overlap function with LP(3,1) modes:\n"
     ]
    },
    {
     "data": {
      "text/latex": [
       "$\\displaystyle \\Large \\frac{8 \\, \\sigma_{y} {\\left| 5 i \\, \\sigma_{x}^{2} y_{0} - {\\left(\\sigma_{x}^{2} + 4 \\, \\sigma_{y}^{2}\\right)} x_{0} \\right|}^{2} e^{\\left(-\\frac{2 \\, \\sigma_{y}^{2} x_{0}^{2}}{5 \\, {\\left(\\sigma_{x}^{4} + 4 \\, \\sigma_{x}^{2} \\sigma_{y}^{2}\\right)}} - \\frac{x_{0}^{2}}{10 \\, {\\left(\\sigma_{x}^{2} + 4 \\, \\sigma_{y}^{2}\\right)}} - \\frac{y_{0}^{2}}{2 \\, {\\left(\\sigma_{x}^{2} + 4 \\, \\sigma_{y}^{2}\\right)}}\\right)}}{125 \\, {\\left(\\sigma_{x}^{7} + 12 \\, \\sigma_{x}^{5} \\sigma_{y}^{2} + 48 \\, \\sigma_{x}^{3} \\sigma_{y}^{4} + 64 \\, \\sigma_{x} \\sigma_{y}^{6}\\right)}}$"
      ],
      "text/plain": [
       "<IPython.core.display.Math object>"
      ]
     },
     "metadata": {},
     "output_type": "display_data"
    }
   ],
   "source": [
    "l, p = (3, 1)\n",
    "prob = overlap_analytical(x, y, x0 / 2, y0 / 2, sigma_x, sigma_y, mode=\"lp\", l=l, p=p)\n",
    "print(f\"overlap function with LP({l},{p}) modes:\")\n",
    "display(Math(r\"\\Large \" + latex(prob.simplify_full())))"
   ]
  }
 ],
 "metadata": {
  "kernelspec": {
   "display_name": "sage",
   "language": "python",
   "name": "python3"
  },
  "language_info": {
   "codemirror_mode": {
    "name": "ipython",
    "version": 3
   },
   "file_extension": ".py",
   "mimetype": "text/x-python",
   "name": "python",
   "nbconvert_exporter": "python",
   "pygments_lexer": "ipython3",
   "version": "3.11.11"
  }
 },
 "nbformat": 4,
 "nbformat_minor": 2
}
